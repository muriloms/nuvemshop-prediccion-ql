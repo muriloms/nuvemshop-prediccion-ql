{
 "cells": [
  {
   "cell_type": "markdown",
   "id": "2190ca2f",
   "metadata": {},
   "source": [
    "![title](imgs/cover.png)"
   ]
  },
  {
   "cell_type": "markdown",
   "id": "9d4448e2",
   "metadata": {},
   "source": [
    "# Machine Learning Model\n",
    "A terceira etapa do projeto envolve a modelagem de machine learning, onde inicialmente os dados são importados de fontes predeterminadas. Segue-se a preparação desses dados, um processo que inclui a codificação de variáveis categóricas e a normalização de variáveis numéricas para manter a consistência e relevância nos modelos de machine learning. Além disso, os dados são divididos em conjuntos de treino e teste, e realiza-se a seleção de características importantes. Posteriormente, diversos modelos são aplicados para avaliar qual apresenta melhor desempenho inicial, selecionando os três principais para análises mais profundas. Estes modelos são então submetidos a uma avaliação rigorosa, onde métricas como acurácia e a área sob a curva ROC são analisadas para identificar os mais eficazes. Após esta análise, um ajuste fino dos hiperparâmetros é realizado para otimizar o desempenho dos modelos. Finalmente, os modelos ajustados e os artefatos relevantes são exportados para uso futuro ou implementação.\n",
    "\n",
    "---"
   ]
  },
  {
   "cell_type": "code",
   "execution_count": 1,
   "id": "a1ca5c87",
   "metadata": {},
   "outputs": [],
   "source": [
    "import os\n",
    "import time\n",
    "from tqdm import tqdm\n",
    "\n",
    "import pandas as pd\n",
    "import numpy as np\n",
    "\n",
    "import matplotlib.pyplot as plt\n",
    "import seaborn as sns\n",
    "import visualizer \n",
    "\n",
    "from sklearn.preprocessing import OrdinalEncoder\n",
    "from sklearn.preprocessing import StandardScaler\n",
    "from sklearn.compose import ColumnTransformer\n",
    "from sklearn.pipeline import Pipeline\n",
    "from sklearn.model_selection import train_test_split\n",
    "\n",
    "\n",
    "from lightgbm import LGBMClassifier\n",
    "from catboost import CatBoostClassifier\n",
    "from xgboost import XGBClassifier\n",
    "from sklearn.ensemble import RandomForestClassifier, AdaBoostClassifier, ExtraTreesClassifier, BaggingClassifier, StackingClassifier, GradientBoostingClassifier\n",
    "from sklearn.tree import DecisionTreeClassifier\n",
    "from sklearn.neighbors import KNeighborsClassifier\n",
    "from sklearn.linear_model import LogisticRegression, SGDClassifier\n",
    "from sklearn.neural_network import MLPClassifier\n",
    "from sklearn.naive_bayes import BernoulliNB, GaussianNB\n",
    "from sklearn.svm import SVC\n",
    "\n",
    "from sklearn.model_selection import GridSearchCV, RandomizedSearchCV, cross_val_score\n",
    "from sklearn.metrics import accuracy_score, classification_report, confusion_matrix, roc_curve, roc_auc_score, recall_score, precision_score, f1_score\n",
    "\n",
    "from joblib import dump\n",
    "\n",
    "import warnings\n",
    "from sklearn.calibration import calibration_curve, CalibratedClassifierCV\n",
    "warnings.filterwarnings(\"ignore\")"
   ]
  },
  {
   "cell_type": "markdown",
   "id": "5a3d128e",
   "metadata": {},
   "source": [
    "---\n",
    "# Importação dos Dados\n",
    "Os dados para o modelo de machine learning serão importados. O processo inclui carregar conjuntos de dados a partir de arquivos ou fontes externas, garantindo que os dados estejam acessíveis e prontos para as etapas subsequentes de pré-processamento e modelagem."
   ]
  },
  {
   "cell_type": "code",
   "execution_count": 2,
   "id": "de25edbe",
   "metadata": {},
   "outputs": [],
   "source": [
    "# Dicionário para armazenar os tempos de execução\n",
    "time_report = {}"
   ]
  },
  {
   "cell_type": "code",
   "execution_count": 3,
   "id": "e2a44532",
   "metadata": {},
   "outputs": [],
   "source": [
    "# Import data\n",
    "df = pd.read_csv('data/cleaned_test_data.csv', sep = ';')"
   ]
  },
  {
   "cell_type": "code",
   "execution_count": 4,
   "id": "b14aeeee",
   "metadata": {},
   "outputs": [
    {
     "name": "stdout",
     "output_type": "stream",
     "text": [
      "(585340, 14)\n"
     ]
    },
    {
     "data": {
      "text/html": [
       "<div>\n",
       "<style scoped>\n",
       "    .dataframe tbody tr th:only-of-type {\n",
       "        vertical-align: middle;\n",
       "    }\n",
       "\n",
       "    .dataframe tbody tr th {\n",
       "        vertical-align: top;\n",
       "    }\n",
       "\n",
       "    .dataframe thead th {\n",
       "        text-align: right;\n",
       "    }\n",
       "</style>\n",
       "<table border=\"1\" class=\"dataframe\">\n",
       "  <thead>\n",
       "    <tr style=\"text-align: right;\">\n",
       "      <th></th>\n",
       "      <th>country</th>\n",
       "      <th>creation_platform</th>\n",
       "      <th>admin_visits</th>\n",
       "      <th>intercom_conversations</th>\n",
       "      <th>source_pulido</th>\n",
       "      <th>creation_weekday</th>\n",
       "      <th>creation_hour</th>\n",
       "      <th>products_with_description</th>\n",
       "      <th>total_products_with_images</th>\n",
       "      <th>total_product_categories</th>\n",
       "      <th>total_events_on_Android</th>\n",
       "      <th>total_events_on_Web</th>\n",
       "      <th>total_events_on_iOS</th>\n",
       "      <th>target</th>\n",
       "    </tr>\n",
       "  </thead>\n",
       "  <tbody>\n",
       "    <tr>\n",
       "      <th>0</th>\n",
       "      <td>BR</td>\n",
       "      <td>mobile_app</td>\n",
       "      <td>1.0</td>\n",
       "      <td>0.0</td>\n",
       "      <td>Other</td>\n",
       "      <td>6</td>\n",
       "      <td>3</td>\n",
       "      <td>2.0</td>\n",
       "      <td>1</td>\n",
       "      <td>0.0</td>\n",
       "      <td>215.0</td>\n",
       "      <td>6.0</td>\n",
       "      <td>0.0</td>\n",
       "      <td>0</td>\n",
       "    </tr>\n",
       "    <tr>\n",
       "      <th>1</th>\n",
       "      <td>BR</td>\n",
       "      <td>mobile_web</td>\n",
       "      <td>2.0</td>\n",
       "      <td>0.0</td>\n",
       "      <td>Google CPC no Brand</td>\n",
       "      <td>6</td>\n",
       "      <td>3</td>\n",
       "      <td>1.0</td>\n",
       "      <td>1</td>\n",
       "      <td>0.0</td>\n",
       "      <td>0.0</td>\n",
       "      <td>44.0</td>\n",
       "      <td>0.0</td>\n",
       "      <td>0</td>\n",
       "    </tr>\n",
       "    <tr>\n",
       "      <th>2</th>\n",
       "      <td>BR</td>\n",
       "      <td>mobile_web</td>\n",
       "      <td>1.0</td>\n",
       "      <td>0.0</td>\n",
       "      <td>Google CPC no Brand</td>\n",
       "      <td>6</td>\n",
       "      <td>3</td>\n",
       "      <td>0.0</td>\n",
       "      <td>0</td>\n",
       "      <td>0.0</td>\n",
       "      <td>0.0</td>\n",
       "      <td>16.0</td>\n",
       "      <td>0.0</td>\n",
       "      <td>0</td>\n",
       "    </tr>\n",
       "    <tr>\n",
       "      <th>3</th>\n",
       "      <td>BR</td>\n",
       "      <td>mobile_web</td>\n",
       "      <td>1.0</td>\n",
       "      <td>0.0</td>\n",
       "      <td>Google CPC no Brand</td>\n",
       "      <td>6</td>\n",
       "      <td>3</td>\n",
       "      <td>0.0</td>\n",
       "      <td>0</td>\n",
       "      <td>0.0</td>\n",
       "      <td>0.0</td>\n",
       "      <td>15.0</td>\n",
       "      <td>0.0</td>\n",
       "      <td>0</td>\n",
       "    </tr>\n",
       "    <tr>\n",
       "      <th>4</th>\n",
       "      <td>BR</td>\n",
       "      <td>mobile_web</td>\n",
       "      <td>1.0</td>\n",
       "      <td>0.0</td>\n",
       "      <td>Google CPC no Brand</td>\n",
       "      <td>6</td>\n",
       "      <td>3</td>\n",
       "      <td>0.0</td>\n",
       "      <td>0</td>\n",
       "      <td>0.0</td>\n",
       "      <td>0.0</td>\n",
       "      <td>24.0</td>\n",
       "      <td>0.0</td>\n",
       "      <td>0</td>\n",
       "    </tr>\n",
       "  </tbody>\n",
       "</table>\n",
       "</div>"
      ],
      "text/plain": [
       "  country creation_platform  admin_visits  intercom_conversations  \\\n",
       "0      BR        mobile_app           1.0                     0.0   \n",
       "1      BR        mobile_web           2.0                     0.0   \n",
       "2      BR        mobile_web           1.0                     0.0   \n",
       "3      BR        mobile_web           1.0                     0.0   \n",
       "4      BR        mobile_web           1.0                     0.0   \n",
       "\n",
       "         source_pulido  creation_weekday  creation_hour  \\\n",
       "0                Other                 6              3   \n",
       "1  Google CPC no Brand                 6              3   \n",
       "2  Google CPC no Brand                 6              3   \n",
       "3  Google CPC no Brand                 6              3   \n",
       "4  Google CPC no Brand                 6              3   \n",
       "\n",
       "   products_with_description  total_products_with_images  \\\n",
       "0                        2.0                           1   \n",
       "1                        1.0                           1   \n",
       "2                        0.0                           0   \n",
       "3                        0.0                           0   \n",
       "4                        0.0                           0   \n",
       "\n",
       "   total_product_categories  total_events_on_Android  total_events_on_Web  \\\n",
       "0                       0.0                    215.0                  6.0   \n",
       "1                       0.0                      0.0                 44.0   \n",
       "2                       0.0                      0.0                 16.0   \n",
       "3                       0.0                      0.0                 15.0   \n",
       "4                       0.0                      0.0                 24.0   \n",
       "\n",
       "   total_events_on_iOS  target  \n",
       "0                  0.0       0  \n",
       "1                  0.0       0  \n",
       "2                  0.0       0  \n",
       "3                  0.0       0  \n",
       "4                  0.0       0  "
      ]
     },
     "execution_count": 4,
     "metadata": {},
     "output_type": "execute_result"
    }
   ],
   "source": [
    "print(df.shape)\n",
    "df.head()"
   ]
  },
  {
   "cell_type": "code",
   "execution_count": 5,
   "id": "f1717f93",
   "metadata": {},
   "outputs": [],
   "source": [
    "df = df.sample(10000)"
   ]
  },
  {
   "cell_type": "markdown",
   "id": "7d96d26a",
   "metadata": {},
   "source": [
    "---\n",
    "# Preparação dos Dados\n",
    "Esta etapa aborda o pré-processamento dos dados. Inclui a transformação de variáveis categóricas usando técnicas como o ordinal encoding, normalização de variáveis numéricas para garantir que a escala não afete o desempenho do modelo, divisão dos dados em conjuntos de treino e teste para validação futura, e seleção de características (feature selection) para melhorar a eficiência do modelo."
   ]
  },
  {
   "cell_type": "code",
   "execution_count": 6,
   "id": "52473b05",
   "metadata": {},
   "outputs": [
    {
     "data": {
      "text/plain": [
       "Index(['country', 'creation_platform', 'source_pulido'], dtype='object')"
      ]
     },
     "execution_count": 6,
     "metadata": {},
     "output_type": "execute_result"
    }
   ],
   "source": [
    "# Checando quais colunas são do tipo 'object', indicando variáveis categóricas\n",
    "categorical_columns = df.select_dtypes(include=['object']).columns\n",
    "categorical_columns"
   ]
  },
  {
   "cell_type": "code",
   "execution_count": 7,
   "id": "8de853b6",
   "metadata": {},
   "outputs": [
    {
     "data": {
      "text/plain": [
       "Index(['admin_visits', 'intercom_conversations', 'creation_weekday',\n",
       "       'creation_hour', 'products_with_description',\n",
       "       'total_products_with_images', 'total_product_categories',\n",
       "       'total_events_on_Android', 'total_events_on_Web',\n",
       "       'total_events_on_iOS'],\n",
       "      dtype='object')"
      ]
     },
     "execution_count": 7,
     "metadata": {},
     "output_type": "execute_result"
    }
   ],
   "source": [
    "# Identificando colunas numéricas (int e float)\n",
    "numeric_columns = df.select_dtypes(include=['int64', 'float64']).drop(columns='target').columns\n",
    "numeric_columns"
   ]
  },
  {
   "cell_type": "code",
   "execution_count": 8,
   "id": "fa0efa69",
   "metadata": {},
   "outputs": [
    {
     "data": {
      "text/html": [
       "<div>\n",
       "<style scoped>\n",
       "    .dataframe tbody tr th:only-of-type {\n",
       "        vertical-align: middle;\n",
       "    }\n",
       "\n",
       "    .dataframe tbody tr th {\n",
       "        vertical-align: top;\n",
       "    }\n",
       "\n",
       "    .dataframe thead th {\n",
       "        text-align: right;\n",
       "    }\n",
       "</style>\n",
       "<table border=\"1\" class=\"dataframe\">\n",
       "  <thead>\n",
       "    <tr style=\"text-align: right;\">\n",
       "      <th></th>\n",
       "      <th>country</th>\n",
       "      <th>creation_platform</th>\n",
       "      <th>admin_visits</th>\n",
       "      <th>intercom_conversations</th>\n",
       "      <th>source_pulido</th>\n",
       "      <th>creation_weekday</th>\n",
       "      <th>creation_hour</th>\n",
       "      <th>products_with_description</th>\n",
       "      <th>total_products_with_images</th>\n",
       "      <th>total_product_categories</th>\n",
       "      <th>total_events_on_Android</th>\n",
       "      <th>total_events_on_Web</th>\n",
       "      <th>total_events_on_iOS</th>\n",
       "      <th>target</th>\n",
       "    </tr>\n",
       "  </thead>\n",
       "  <tbody>\n",
       "    <tr>\n",
       "      <th>151067</th>\n",
       "      <td>0.0</td>\n",
       "      <td>2.0</td>\n",
       "      <td>1.0</td>\n",
       "      <td>0.0</td>\n",
       "      <td>0.0</td>\n",
       "      <td>0</td>\n",
       "      <td>11</td>\n",
       "      <td>0.0</td>\n",
       "      <td>0</td>\n",
       "      <td>0.0</td>\n",
       "      <td>0.0</td>\n",
       "      <td>52.0</td>\n",
       "      <td>0.0</td>\n",
       "      <td>0</td>\n",
       "    </tr>\n",
       "    <tr>\n",
       "      <th>192616</th>\n",
       "      <td>1.0</td>\n",
       "      <td>2.0</td>\n",
       "      <td>1.0</td>\n",
       "      <td>0.0</td>\n",
       "      <td>2.0</td>\n",
       "      <td>3</td>\n",
       "      <td>20</td>\n",
       "      <td>0.0</td>\n",
       "      <td>0</td>\n",
       "      <td>0.0</td>\n",
       "      <td>0.0</td>\n",
       "      <td>24.0</td>\n",
       "      <td>0.0</td>\n",
       "      <td>0</td>\n",
       "    </tr>\n",
       "    <tr>\n",
       "      <th>194747</th>\n",
       "      <td>1.0</td>\n",
       "      <td>2.0</td>\n",
       "      <td>1.0</td>\n",
       "      <td>0.0</td>\n",
       "      <td>2.0</td>\n",
       "      <td>6</td>\n",
       "      <td>6</td>\n",
       "      <td>0.0</td>\n",
       "      <td>0</td>\n",
       "      <td>0.0</td>\n",
       "      <td>0.0</td>\n",
       "      <td>23.0</td>\n",
       "      <td>0.0</td>\n",
       "      <td>0</td>\n",
       "    </tr>\n",
       "    <tr>\n",
       "      <th>128310</th>\n",
       "      <td>0.0</td>\n",
       "      <td>2.0</td>\n",
       "      <td>1.0</td>\n",
       "      <td>0.0</td>\n",
       "      <td>7.0</td>\n",
       "      <td>4</td>\n",
       "      <td>16</td>\n",
       "      <td>0.0</td>\n",
       "      <td>0</td>\n",
       "      <td>0.0</td>\n",
       "      <td>0.0</td>\n",
       "      <td>22.0</td>\n",
       "      <td>0.0</td>\n",
       "      <td>0</td>\n",
       "    </tr>\n",
       "    <tr>\n",
       "      <th>579945</th>\n",
       "      <td>0.0</td>\n",
       "      <td>0.0</td>\n",
       "      <td>1.0</td>\n",
       "      <td>0.0</td>\n",
       "      <td>6.0</td>\n",
       "      <td>3</td>\n",
       "      <td>15</td>\n",
       "      <td>1.0</td>\n",
       "      <td>1</td>\n",
       "      <td>0.0</td>\n",
       "      <td>0.0</td>\n",
       "      <td>8.0</td>\n",
       "      <td>0.0</td>\n",
       "      <td>0</td>\n",
       "    </tr>\n",
       "  </tbody>\n",
       "</table>\n",
       "</div>"
      ],
      "text/plain": [
       "        country  creation_platform  admin_visits  intercom_conversations  \\\n",
       "151067      0.0                2.0           1.0                     0.0   \n",
       "192616      1.0                2.0           1.0                     0.0   \n",
       "194747      1.0                2.0           1.0                     0.0   \n",
       "128310      0.0                2.0           1.0                     0.0   \n",
       "579945      0.0                0.0           1.0                     0.0   \n",
       "\n",
       "        source_pulido  creation_weekday  creation_hour  \\\n",
       "151067            0.0                 0             11   \n",
       "192616            2.0                 3             20   \n",
       "194747            2.0                 6              6   \n",
       "128310            7.0                 4             16   \n",
       "579945            6.0                 3             15   \n",
       "\n",
       "        products_with_description  total_products_with_images  \\\n",
       "151067                        0.0                           0   \n",
       "192616                        0.0                           0   \n",
       "194747                        0.0                           0   \n",
       "128310                        0.0                           0   \n",
       "579945                        1.0                           1   \n",
       "\n",
       "        total_product_categories  total_events_on_Android  \\\n",
       "151067                       0.0                      0.0   \n",
       "192616                       0.0                      0.0   \n",
       "194747                       0.0                      0.0   \n",
       "128310                       0.0                      0.0   \n",
       "579945                       0.0                      0.0   \n",
       "\n",
       "        total_events_on_Web  total_events_on_iOS  target  \n",
       "151067                 52.0                  0.0       0  \n",
       "192616                 24.0                  0.0       0  \n",
       "194747                 23.0                  0.0       0  \n",
       "128310                 22.0                  0.0       0  \n",
       "579945                  8.0                  0.0       0  "
      ]
     },
     "execution_count": 8,
     "metadata": {},
     "output_type": "execute_result"
    }
   ],
   "source": [
    "# Inicializando o codificador ordinal\n",
    "encoder = OrdinalEncoder()\n",
    "\n",
    "# Codificando as variáveis categóricas\n",
    "df[categorical_columns] = encoder.fit_transform(df[categorical_columns])\n",
    "\n",
    "# Exibindo o DataFrame com as variáveis categóricas codificadas\n",
    "df.head()"
   ]
  },
  {
   "cell_type": "code",
   "execution_count": 9,
   "id": "f1cac99e",
   "metadata": {},
   "outputs": [],
   "source": [
    "# Definindo as variáveis independentes e a variável dependente (target)\n",
    "X = df.drop('target', axis=1)\n",
    "y = df['target']\n",
    "\n",
    "# Dividindo os dados em treino e teste\n",
    "X_train, X_test, y_train, y_test = train_test_split(X, y, \n",
    "                                                    test_size=0.3, \n",
    "                                                    random_state=42, \n",
    "                                                    stratify=y)"
   ]
  },
  {
   "cell_type": "code",
   "execution_count": 10,
   "id": "4039ee75",
   "metadata": {},
   "outputs": [
    {
     "data": {
      "text/html": [
       "<div>\n",
       "<style scoped>\n",
       "    .dataframe tbody tr th:only-of-type {\n",
       "        vertical-align: middle;\n",
       "    }\n",
       "\n",
       "    .dataframe tbody tr th {\n",
       "        vertical-align: top;\n",
       "    }\n",
       "\n",
       "    .dataframe thead th {\n",
       "        text-align: right;\n",
       "    }\n",
       "</style>\n",
       "<table border=\"1\" class=\"dataframe\">\n",
       "  <thead>\n",
       "    <tr style=\"text-align: right;\">\n",
       "      <th></th>\n",
       "      <th>country</th>\n",
       "      <th>creation_platform</th>\n",
       "      <th>admin_visits</th>\n",
       "      <th>intercom_conversations</th>\n",
       "      <th>source_pulido</th>\n",
       "      <th>creation_weekday</th>\n",
       "      <th>creation_hour</th>\n",
       "      <th>products_with_description</th>\n",
       "      <th>total_products_with_images</th>\n",
       "      <th>total_product_categories</th>\n",
       "      <th>total_events_on_Android</th>\n",
       "      <th>total_events_on_Web</th>\n",
       "      <th>total_events_on_iOS</th>\n",
       "    </tr>\n",
       "  </thead>\n",
       "  <tbody>\n",
       "    <tr>\n",
       "      <th>537634</th>\n",
       "      <td>0.0</td>\n",
       "      <td>2.0</td>\n",
       "      <td>-0.162889</td>\n",
       "      <td>-0.071664</td>\n",
       "      <td>0.0</td>\n",
       "      <td>-1.403140</td>\n",
       "      <td>-1.163980</td>\n",
       "      <td>-0.053906</td>\n",
       "      <td>-0.077705</td>\n",
       "      <td>-0.188791</td>\n",
       "      <td>-0.204663</td>\n",
       "      <td>-0.010394</td>\n",
       "      <td>-0.073609</td>\n",
       "    </tr>\n",
       "    <tr>\n",
       "      <th>353822</th>\n",
       "      <td>1.0</td>\n",
       "      <td>0.0</td>\n",
       "      <td>-0.162889</td>\n",
       "      <td>-0.071664</td>\n",
       "      <td>3.0</td>\n",
       "      <td>-0.373582</td>\n",
       "      <td>0.354521</td>\n",
       "      <td>-0.043011</td>\n",
       "      <td>-0.061589</td>\n",
       "      <td>-0.188791</td>\n",
       "      <td>-0.204663</td>\n",
       "      <td>-0.001661</td>\n",
       "      <td>-0.073609</td>\n",
       "    </tr>\n",
       "    <tr>\n",
       "      <th>21932</th>\n",
       "      <td>0.0</td>\n",
       "      <td>2.0</td>\n",
       "      <td>-0.162889</td>\n",
       "      <td>-0.071664</td>\n",
       "      <td>2.0</td>\n",
       "      <td>1.170754</td>\n",
       "      <td>-1.163980</td>\n",
       "      <td>-0.043011</td>\n",
       "      <td>-0.061589</td>\n",
       "      <td>-0.188791</td>\n",
       "      <td>-0.204663</td>\n",
       "      <td>-0.307334</td>\n",
       "      <td>-0.073609</td>\n",
       "    </tr>\n",
       "    <tr>\n",
       "      <th>451695</th>\n",
       "      <td>0.0</td>\n",
       "      <td>2.0</td>\n",
       "      <td>-0.162889</td>\n",
       "      <td>-0.071664</td>\n",
       "      <td>0.0</td>\n",
       "      <td>-0.373582</td>\n",
       "      <td>0.354521</td>\n",
       "      <td>-0.053906</td>\n",
       "      <td>-0.077705</td>\n",
       "      <td>-0.188791</td>\n",
       "      <td>-0.204663</td>\n",
       "      <td>-0.307334</td>\n",
       "      <td>-0.073609</td>\n",
       "    </tr>\n",
       "    <tr>\n",
       "      <th>569973</th>\n",
       "      <td>0.0</td>\n",
       "      <td>0.0</td>\n",
       "      <td>1.661465</td>\n",
       "      <td>-0.071664</td>\n",
       "      <td>6.0</td>\n",
       "      <td>0.141196</td>\n",
       "      <td>-1.440071</td>\n",
       "      <td>-0.053906</td>\n",
       "      <td>-0.077705</td>\n",
       "      <td>-0.188791</td>\n",
       "      <td>-0.204663</td>\n",
       "      <td>-0.578073</td>\n",
       "      <td>-0.073609</td>\n",
       "    </tr>\n",
       "  </tbody>\n",
       "</table>\n",
       "</div>"
      ],
      "text/plain": [
       "        country  creation_platform  admin_visits  intercom_conversations  \\\n",
       "537634      0.0                2.0     -0.162889               -0.071664   \n",
       "353822      1.0                0.0     -0.162889               -0.071664   \n",
       "21932       0.0                2.0     -0.162889               -0.071664   \n",
       "451695      0.0                2.0     -0.162889               -0.071664   \n",
       "569973      0.0                0.0      1.661465               -0.071664   \n",
       "\n",
       "        source_pulido  creation_weekday  creation_hour  \\\n",
       "537634            0.0         -1.403140      -1.163980   \n",
       "353822            3.0         -0.373582       0.354521   \n",
       "21932             2.0          1.170754      -1.163980   \n",
       "451695            0.0         -0.373582       0.354521   \n",
       "569973            6.0          0.141196      -1.440071   \n",
       "\n",
       "        products_with_description  total_products_with_images  \\\n",
       "537634                  -0.053906                   -0.077705   \n",
       "353822                  -0.043011                   -0.061589   \n",
       "21932                   -0.043011                   -0.061589   \n",
       "451695                  -0.053906                   -0.077705   \n",
       "569973                  -0.053906                   -0.077705   \n",
       "\n",
       "        total_product_categories  total_events_on_Android  \\\n",
       "537634                 -0.188791                -0.204663   \n",
       "353822                 -0.188791                -0.204663   \n",
       "21932                  -0.188791                -0.204663   \n",
       "451695                 -0.188791                -0.204663   \n",
       "569973                 -0.188791                -0.204663   \n",
       "\n",
       "        total_events_on_Web  total_events_on_iOS  \n",
       "537634            -0.010394            -0.073609  \n",
       "353822            -0.001661            -0.073609  \n",
       "21932             -0.307334            -0.073609  \n",
       "451695            -0.307334            -0.073609  \n",
       "569973            -0.578073            -0.073609  "
      ]
     },
     "execution_count": 10,
     "metadata": {},
     "output_type": "execute_result"
    }
   ],
   "source": [
    "# Inicializando o StandardScaler\n",
    "scaler = StandardScaler()\n",
    "\n",
    "# Aplicando padronização nas colunas numéricas\n",
    "X_train[numeric_columns] = scaler.fit_transform(X_train[numeric_columns])\n",
    "\n",
    "X_test[numeric_columns] = scaler.transform(X_test[numeric_columns])\n",
    "\n",
    "# Exibindo o DataFrame com as colunas numéricas padronizadas\n",
    "X_train.head()"
   ]
  },
  {
   "cell_type": "code",
   "execution_count": 11,
   "id": "ddf229de",
   "metadata": {},
   "outputs": [
    {
     "name": "stdout",
     "output_type": "stream",
     "text": [
      "                       Feature  Importance\n",
      "11         total_events_on_Web    0.267956\n",
      "6                creation_hour    0.132911\n",
      "5             creation_weekday    0.093145\n",
      "9     total_product_categories    0.087423\n",
      "4                source_pulido    0.085473\n",
      "8   total_products_with_images    0.078920\n",
      "7    products_with_description    0.077205\n",
      "2                 admin_visits    0.059467\n"
     ]
    }
   ],
   "source": [
    "# Instanciando o modelo Random Forest\n",
    "rf = RandomForestClassifier(n_estimators=100, random_state=42)\n",
    "\n",
    "# Treinando o modelo\n",
    "rf.fit(X_train, y_train)\n",
    "\n",
    "# Obtendo a importância das características\n",
    "feature_importances = rf.feature_importances_\n",
    "\n",
    "# Criando um DataFrame para visualizar melhor as importâncias\n",
    "features_df = pd.DataFrame({\n",
    "    'Feature': X_train.columns,\n",
    "    'Importance': feature_importances\n",
    "})\n",
    "\n",
    "# Ordenando as características pela importância\n",
    "features_df = features_df.sort_values(by='Importance', ascending=False)\n",
    "\n",
    "# Você pode selecionar as características mais importantes com base em um limiar de importância\n",
    "selected_features = features_df[features_df['Importance'] > 0.05]  # ajuste o limiar conforme necessário\n",
    "\n",
    "# Exibindo as características selecionadas\n",
    "print(selected_features)\n"
   ]
  },
  {
   "cell_type": "code",
   "execution_count": 12,
   "id": "84dfa245",
   "metadata": {},
   "outputs": [
    {
     "data": {
      "image/png": "[encoded data removed]",
      "text/plain": [
       "<Figure size 800x600 with 1 Axes>"
      ]
     },
     "metadata": {},
     "output_type": "display_data"
    }
   ],
   "source": [
    "# Criando o plot\n",
    "plt.figure(figsize=(8, 6))\n",
    "plt.barh(features_df['Feature'], features_df['Importance'], color='skyblue')\n",
    "plt.xlabel('Importance')\n",
    "plt.title('Feature Importances')\n",
    "plt.show()"
   ]
  },
  {
   "cell_type": "code",
   "execution_count": 13,
   "id": "278b6865",
   "metadata": {},
   "outputs": [
    {
     "data": {
      "text/html": [
       "<div>\n",
       "<style scoped>\n",
       "    .dataframe tbody tr th:only-of-type {\n",
       "        vertical-align: middle;\n",
       "    }\n",
       "\n",
       "    .dataframe tbody tr th {\n",
       "        vertical-align: top;\n",
       "    }\n",
       "\n",
       "    .dataframe thead th {\n",
       "        text-align: right;\n",
       "    }\n",
       "</style>\n",
       "<table border=\"1\" class=\"dataframe\">\n",
       "  <thead>\n",
       "    <tr style=\"text-align: right;\">\n",
       "      <th></th>\n",
       "      <th>total_events_on_Web</th>\n",
       "      <th>creation_hour</th>\n",
       "      <th>creation_weekday</th>\n",
       "      <th>total_product_categories</th>\n",
       "      <th>source_pulido</th>\n",
       "      <th>total_products_with_images</th>\n",
       "      <th>products_with_description</th>\n",
       "      <th>admin_visits</th>\n",
       "    </tr>\n",
       "  </thead>\n",
       "  <tbody>\n",
       "    <tr>\n",
       "      <th>537634</th>\n",
       "      <td>-0.010394</td>\n",
       "      <td>-1.163980</td>\n",
       "      <td>-1.403140</td>\n",
       "      <td>-0.188791</td>\n",
       "      <td>0.0</td>\n",
       "      <td>-0.077705</td>\n",
       "      <td>-0.053906</td>\n",
       "      <td>-0.162889</td>\n",
       "    </tr>\n",
       "    <tr>\n",
       "      <th>353822</th>\n",
       "      <td>-0.001661</td>\n",
       "      <td>0.354521</td>\n",
       "      <td>-0.373582</td>\n",
       "      <td>-0.188791</td>\n",
       "      <td>3.0</td>\n",
       "      <td>-0.061589</td>\n",
       "      <td>-0.043011</td>\n",
       "      <td>-0.162889</td>\n",
       "    </tr>\n",
       "    <tr>\n",
       "      <th>21932</th>\n",
       "      <td>-0.307334</td>\n",
       "      <td>-1.163980</td>\n",
       "      <td>1.170754</td>\n",
       "      <td>-0.188791</td>\n",
       "      <td>2.0</td>\n",
       "      <td>-0.061589</td>\n",
       "      <td>-0.043011</td>\n",
       "      <td>-0.162889</td>\n",
       "    </tr>\n",
       "    <tr>\n",
       "      <th>451695</th>\n",
       "      <td>-0.307334</td>\n",
       "      <td>0.354521</td>\n",
       "      <td>-0.373582</td>\n",
       "      <td>-0.188791</td>\n",
       "      <td>0.0</td>\n",
       "      <td>-0.077705</td>\n",
       "      <td>-0.053906</td>\n",
       "      <td>-0.162889</td>\n",
       "    </tr>\n",
       "    <tr>\n",
       "      <th>569973</th>\n",
       "      <td>-0.578073</td>\n",
       "      <td>-1.440071</td>\n",
       "      <td>0.141196</td>\n",
       "      <td>-0.188791</td>\n",
       "      <td>6.0</td>\n",
       "      <td>-0.077705</td>\n",
       "      <td>-0.053906</td>\n",
       "      <td>1.661465</td>\n",
       "    </tr>\n",
       "  </tbody>\n",
       "</table>\n",
       "</div>"
      ],
      "text/plain": [
       "        total_events_on_Web  creation_hour  creation_weekday  \\\n",
       "537634            -0.010394      -1.163980         -1.403140   \n",
       "353822            -0.001661       0.354521         -0.373582   \n",
       "21932             -0.307334      -1.163980          1.170754   \n",
       "451695            -0.307334       0.354521         -0.373582   \n",
       "569973            -0.578073      -1.440071          0.141196   \n",
       "\n",
       "        total_product_categories  source_pulido  total_products_with_images  \\\n",
       "537634                 -0.188791            0.0                   -0.077705   \n",
       "353822                 -0.188791            3.0                   -0.061589   \n",
       "21932                  -0.188791            2.0                   -0.061589   \n",
       "451695                 -0.188791            0.0                   -0.077705   \n",
       "569973                 -0.188791            6.0                   -0.077705   \n",
       "\n",
       "        products_with_description  admin_visits  \n",
       "537634                  -0.053906     -0.162889  \n",
       "353822                  -0.043011     -0.162889  \n",
       "21932                   -0.043011     -0.162889  \n",
       "451695                  -0.053906     -0.162889  \n",
       "569973                  -0.053906      1.661465  "
      ]
     },
     "execution_count": 13,
     "metadata": {},
     "output_type": "execute_result"
    }
   ],
   "source": [
    "# Obtendo os nomes das características selecionadas\n",
    "selected_feature_names = selected_features['Feature'].tolist()  \n",
    "\n",
    "# Filtrando o X_train para manter apenas as características selecionadas\n",
    "X_train_filtered = X_train[selected_feature_names]\n",
    "X_test_filtered= X_test[selected_feature_names]\n",
    "\n",
    "X_train_filtered.head()"
   ]
  },
  {
   "cell_type": "markdown",
   "id": "c48fe3eb",
   "metadata": {},
   "source": [
    "---\n",
    "# Modelagem\n",
    "Implementação de diversos modelos de machine learning para identificar os que apresentam melhor desempenho. O objetivo é executar uma variedade de algoritmos, comparar seus resultados e selecionar os três modelos com as melhores performances para análises mais aprofundadas."
   ]
  },
  {
   "cell_type": "code",
   "execution_count": 14,
   "id": "26de2928",
   "metadata": {},
   "outputs": [
    {
     "name": "stdout",
     "output_type": "stream",
     "text": [
      "Pipeline(steps=[('model', RandomForestClassifier(random_state=42))])\n"
     ]
    }
   ],
   "source": [
    "# Definição de modelos para os pipelines\n",
    "models = {\n",
    "    'RandomForest': RandomForestClassifier(random_state=42),\n",
    "    'Adaboost': AdaBoostClassifier(random_state=42),\n",
    " #   'ExtraTreeClassifier': ExtraTreesClassifier(random_state=42),\n",
    "    'BaggingClassifier': BaggingClassifier(base_estimator=DecisionTreeClassifier(), random_state=42),\n",
    "    'GradientBoosting': GradientBoostingClassifier(random_state=42),\n",
    "    'DecisionTree': DecisionTreeClassifier(random_state=42),\n",
    "    'KNN': KNeighborsClassifier(),\n",
    "    'LogisticRegression': LogisticRegression(random_state=42),\n",
    "#    'StochasticGradient': SGDClassifier(random_state=42),\n",
    "#    'MLPClassifier': MLPClassifier(random_state=42),\n",
    "    'NaiveBayes': GaussianNB(),\n",
    "    'SVM': SVC(random_state=42),\n",
    "#    'LightGBM': LGBMClassifier(random_state=42, verbosity=-1,verbose_eval=False),\n",
    "#    'CatBoost': CatBoostClassifier(random_state=42, silent=True),\n",
    "    'XGBoost': XGBClassifier(random_state=42)\n",
    "}\n",
    "\n",
    "# Criação dos pipelines\n",
    "pipelines = {name: Pipeline([('model', model)]) for name, model in models.items()}\n",
    "\n",
    "# Exemplo de acesso a um pipeline específico\n",
    "print(pipelines['RandomForest'])"
   ]
  },
  {
   "cell_type": "code",
   "execution_count": 15,
   "id": "3da69658",
   "metadata": {},
   "outputs": [
    {
     "name": "stderr",
     "output_type": "stream",
     "text": [
      "Progress: 100%|██████████████████████████████████████████████████████| 10/10 [00:21<00:00,  2.18s/it]\n"
     ]
    }
   ],
   "source": [
    "t_start = time.time()\n",
    "# Preparando um DataFrame para armazenar os resultados\n",
    "model_scores = []\n",
    "\n",
    "for name, pipe in tqdm(pipelines.items(), desc = \"Progress\"):\n",
    "    # Calculando os scores de validação cruzada para cada pipeline\n",
    "    scores = cross_val_score(pipe, X_train_filtered, y_train, cv=10, scoring='accuracy')\n",
    "    #print(f\"{name}: {score.mean()}\")\n",
    "    for score in scores:\n",
    "        model_scores.append({'Model': name, 'Score': score})\n",
    "\n",
    "# Convertendo a lista de dicionários em um DataFrame\n",
    "scores_df = pd.DataFrame(model_scores)\n",
    "\n",
    "# Time report\n",
    "t_finish = time.time()\n",
    "time_report['eval_all_models'] = t_finish - t_start"
   ]
  },
  {
   "cell_type": "code",
   "execution_count": 16,
   "id": "49b820b8",
   "metadata": {},
   "outputs": [
    {
     "data": {
      "text/html": [
       "<div>\n",
       "<style scoped>\n",
       "    .dataframe tbody tr th:only-of-type {\n",
       "        vertical-align: middle;\n",
       "    }\n",
       "\n",
       "    .dataframe tbody tr th {\n",
       "        vertical-align: top;\n",
       "    }\n",
       "\n",
       "    .dataframe thead th {\n",
       "        text-align: right;\n",
       "    }\n",
       "</style>\n",
       "<table border=\"1\" class=\"dataframe\">\n",
       "  <thead>\n",
       "    <tr style=\"text-align: right;\">\n",
       "      <th></th>\n",
       "      <th>Score</th>\n",
       "    </tr>\n",
       "    <tr>\n",
       "      <th>Model</th>\n",
       "      <th></th>\n",
       "    </tr>\n",
       "  </thead>\n",
       "  <tbody>\n",
       "    <tr>\n",
       "      <th>LogisticRegression</th>\n",
       "      <td>0.919714</td>\n",
       "    </tr>\n",
       "    <tr>\n",
       "      <th>GradientBoosting</th>\n",
       "      <td>0.916571</td>\n",
       "    </tr>\n",
       "    <tr>\n",
       "      <th>SVM</th>\n",
       "      <td>0.916571</td>\n",
       "    </tr>\n",
       "    <tr>\n",
       "      <th>RandomForest</th>\n",
       "      <td>0.914429</td>\n",
       "    </tr>\n",
       "    <tr>\n",
       "      <th>Adaboost</th>\n",
       "      <td>0.913286</td>\n",
       "    </tr>\n",
       "    <tr>\n",
       "      <th>KNN</th>\n",
       "      <td>0.911714</td>\n",
       "    </tr>\n",
       "    <tr>\n",
       "      <th>XGBoost</th>\n",
       "      <td>0.907143</td>\n",
       "    </tr>\n",
       "    <tr>\n",
       "      <th>NaiveBayes</th>\n",
       "      <td>0.905286</td>\n",
       "    </tr>\n",
       "    <tr>\n",
       "      <th>BaggingClassifier</th>\n",
       "      <td>0.904571</td>\n",
       "    </tr>\n",
       "    <tr>\n",
       "      <th>DecisionTree</th>\n",
       "      <td>0.868143</td>\n",
       "    </tr>\n",
       "  </tbody>\n",
       "</table>\n",
       "</div>"
      ],
      "text/plain": [
       "                       Score\n",
       "Model                       \n",
       "LogisticRegression  0.919714\n",
       "GradientBoosting    0.916571\n",
       "SVM                 0.916571\n",
       "RandomForest        0.914429\n",
       "Adaboost            0.913286\n",
       "KNN                 0.911714\n",
       "XGBoost             0.907143\n",
       "NaiveBayes          0.905286\n",
       "BaggingClassifier   0.904571\n",
       "DecisionTree        0.868143"
      ]
     },
     "execution_count": 16,
     "metadata": {},
     "output_type": "execute_result"
    }
   ],
   "source": [
    "scores_df.groupby('Model').mean().sort_values(by='Score', ascending=False)"
   ]
  },
  {
   "cell_type": "code",
   "execution_count": 17,
   "id": "9979daee",
   "metadata": {},
   "outputs": [
    {
     "data": {
      "image/png": "[encoded data removed]",
      "text/plain": [
       "<Figure size 1400x800 with 1 Axes>"
      ]
     },
     "metadata": {},
     "output_type": "display_data"
    }
   ],
   "source": [
    "# Criando o box plot\n",
    "plt.figure(figsize=(14, 8))  # Define o tamanho da figura\n",
    "sns.boxplot(x='Model', y='Score', data=scores_df)\n",
    "plt.title('Model Comparison using Box Plot')\n",
    "plt.xlabel('Machine Learning Model')\n",
    "plt.ylabel('CV Accuracy Score')\n",
    "plt.xticks(rotation=45)\n",
    "plt.grid()\n",
    "plt.show()"
   ]
  },
  {
   "cell_type": "markdown",
   "id": "c00ecf79",
   "metadata": {},
   "source": [
    "---\n",
    "# Avaliação dos Melhores Modelos\n",
    "Nesta seção, os três modelos selecionados na etapa anterior são avaliados detalhadamente. A análise foca em métricas de desempenho como acurácia e a área sob a curva ROC (AUC). Este processo ajuda a entender melhor cada modelo e prepara para o refinamento através de ajustes de hiperparâmetros."
   ]
  },
  {
   "cell_type": "markdown",
   "id": "47316d3e",
   "metadata": {},
   "source": [
    "### Modelos selecionados\n",
    "- Random Forest\n",
    "\n",
    "O algoritmo Random Forest é uma técnica de ensemble baseada em árvores de decisão. Ele cria múltiplas árvores de decisão durante o treinamento e faz suas previsões ao obter a média das previsões de cada árvore individual. Isso é conhecido como \"bagging\" ou Bootstrap Aggregating. A vantagem do Random Forest é que ele é robusto contra overfitting, especialmente em casos onde o conjunto de dados é grande. Ele lida bem com um grande número de features e pode ser usado para tarefas de classificação e regressão. O método também é eficaz em lidar com dados não lineares e não requer escalonamento dos dados.\n",
    "\n",
    "- AdaBoost\n",
    "\n",
    "AdaBoost, ou Adaptive Boosting, é outro algoritmo de ensemble que combina múltiplos classificadores fracos para formar um classificador forte. O conceito principal por trás do AdaBoost é ajustar os pesos dos classificadores e dos dados baseando-se nos erros das iterações anteriores. Em cada rodada de treinamento, AdaBoost altera o peso das instâncias de treinamento, dando mais peso às que foram incorretamente classificadas, incentivando o modelo a aprender mais com os erros. Isso continua até que um critério de parada seja alcançado ou até que o número desejado de classificadores fracos seja combinado. AdaBoost é particularmente útil para melhorar a precisão de algoritmos que são suscetíveis a erros de treinamento e é mais eficaz em problemas de classificação binária.\n",
    "\n",
    "- Support Vector Machines (SVM)\n",
    "\n",
    "Support Vector Machines (SVM) é um poderoso método de classificação que funciona bem em uma variedade de problemas de classificação complexos SVM busca a melhor margem de separação entre as classes, que é a distância máxima entre os pontos de dados mais próximos de cada classe. Isso é alcançado construindo um hiperplano em um espaço de alta dimensão que melhor separa as classes. SVM pode ser configurado com diferentes funções kernel para lidar com a não linearidade nos dados, permitindo que ele faça previsões mais precisas, especialmente em problemas complicados de classificação. Contudo, SVM tende a ser menos eficaz com conjuntos de dados muito grandes ou com uma grande quantidade de ruído."
   ]
  },
  {
   "cell_type": "code",
   "execution_count": 18,
   "id": "2d3203e9",
   "metadata": {},
   "outputs": [],
   "source": [
    "def evaluate_model(model, x_train, y_train, x_test, y_test):\n",
    "    \"\"\"\n",
    "    Evaluate the performance of a machine learning model on training and testing data.\n",
    "\n",
    "    Parameters:\n",
    "        model: The machine learning model to be evaluated.\n",
    "        x_train (pd.DataFrame): Training data features.\n",
    "        y_train (pd.Series): Training data target.\n",
    "        x_test (pd.DataFrame): Test data features.\n",
    "        y_test (pd.Series): Test data target.\n",
    "\n",
    "    Returns:\n",
    "        A dictionary containing the model's performance metrics including accuracy, error rates,\n",
    "        classification reports, and confusion matrices for both training and testing datasets.\n",
    "    \"\"\"\n",
    "    # Fitting the model and making predictions\n",
    "    model.fit(x_train, y_train)\n",
    "    predict_train_y = model.predict(x_train)\n",
    "    predict_test_y = model.predict(x_test)\n",
    "    \n",
    "    # Calculating accuracy\n",
    "    train_accuracy = accuracy_score(y_train, predict_train_y)\n",
    "    test_accuracy = accuracy_score(y_test, predict_test_y)\n",
    "\n",
    "    # Printing accuracy results\n",
    "    print(f\"**Accuracy Score**\\nTrain Accuracy: {train_accuracy:.3f}\\nTest Accuracy: {test_accuracy:.3f}\")\n",
    "    print(\"---------------------------------------------------------\")\n",
    "    \n",
    "    # Calculating and printing errors\n",
    "    train_error = 1 - train_accuracy\n",
    "    test_error = 1 - test_accuracy\n",
    "    print(f\"**Accuracy Error**\\nTrain Error: {train_error:.3f}\\nTest Error: {test_error:.3f}\")\n",
    "    print(\"---------------------------------------------------------\")\n",
    "    \n",
    "    # Generating and printing classification reports\n",
    "    train_cf_report = classification_report(y_train, predict_train_y, output_dict=True)\n",
    "    test_cf_report = classification_report(y_test, predict_test_y, output_dict=True)\n",
    "    print(\"Train Classification Report:\")\n",
    "    print(pd.DataFrame(train_cf_report))\n",
    "    print(\"\\nTest Classification Report:\")\n",
    "    print(pd.DataFrame(test_cf_report))\n",
    "    print(\"---------------------------------------------------------\")\n",
    "    \n",
    "    # Generating and printing confusion matrices\n",
    "    train_conf = confusion_matrix(y_train, predict_train_y)\n",
    "    test_conf = confusion_matrix(y_test, predict_test_y)\n",
    "    print(\"Train Confusion Matrix:\")\n",
    "    print(train_conf)\n",
    "    print(\"\\nTest Confusion Matrix:\")\n",
    "    print(test_conf)\n",
    "    \n",
    "    # Calculando AUC-ROC\n",
    "    prob_test_y = model.predict_proba(x_test)[:, 1]  # Probabilidades para a classe positiva\n",
    "    \n",
    "    auc_score = roc_auc_score(y_test, prob_test_y)\n",
    "    \n",
    "    return [train_accuracy,test_accuracy], auc_score, prob_test_y"
   ]
  },
  {
   "cell_type": "code",
   "execution_count": 19,
   "id": "07a1168f",
   "metadata": {},
   "outputs": [],
   "source": [
    "# Definição de apenas três modelos para os pipelines\n",
    "selected_models = {\n",
    "    'RandomForest': RandomForestClassifier(random_state=42),\n",
    "    'Adaboost': AdaBoostClassifier(random_state=42),\n",
    "    'SVM': ExtraTreesClassifier(random_state=42)\n",
    "}\n",
    "\n",
    "# Criação dos pipelines para apenas os três modelos selecionados\n",
    "selected_pipelines = {name: Pipeline([('model', model)]) for name, model in selected_models.items()}"
   ]
  },
  {
   "cell_type": "code",
   "execution_count": 20,
   "id": "1dc12025",
   "metadata": {},
   "outputs": [
    {
     "name": "stdout",
     "output_type": "stream",
     "text": [
      "\n",
      "----- Model: RandomForest -----\n",
      "\n",
      "**Accuracy Score**\n",
      "Train Accuracy: 0.999\n",
      "Test Accuracy: 0.912\n",
      "---------------------------------------------------------\n",
      "**Accuracy Error**\n",
      "Train Error: 0.001\n",
      "Test Error: 0.088\n",
      "---------------------------------------------------------\n",
      "Train Classification Report:\n",
      "                     0           1  accuracy    macro avg  weighted avg\n",
      "precision     0.998910    1.000000     0.999     0.999455      0.999001\n",
      "recall        1.000000    0.987993     0.999     0.993997      0.999000\n",
      "f1-score      0.999455    0.993960     0.999     0.996708      0.998997\n",
      "support    6417.000000  583.000000     0.999  7000.000000   7000.000000\n",
      "\n",
      "Test Classification Report:\n",
      "                     0           1  accuracy    macro avg  weighted avg\n",
      "precision     0.927466    0.428571  0.912333     0.678019      0.885892\n",
      "recall        0.981091    0.156000  0.912333     0.568545      0.912333\n",
      "f1-score      0.953525    0.228739  0.912333     0.591132      0.893126\n",
      "support    2750.000000  250.000000  0.912333  3000.000000   3000.000000\n",
      "---------------------------------------------------------\n",
      "Train Confusion Matrix:\n",
      "[[6417    0]\n",
      " [   7  576]]\n",
      "\n",
      "Test Confusion Matrix:\n",
      "[[2698   52]\n",
      " [ 211   39]]\n",
      "\n",
      "----- Model: Adaboost -----\n",
      "\n",
      "**Accuracy Score**\n",
      "Train Accuracy: 0.919\n",
      "Test Accuracy: 0.915\n",
      "---------------------------------------------------------\n",
      "**Accuracy Error**\n",
      "Train Error: 0.081\n",
      "Test Error: 0.085\n",
      "---------------------------------------------------------\n",
      "Train Classification Report:\n",
      "                     0           1  accuracy    macro avg  weighted avg\n",
      "precision     0.930253    0.534314  0.918714     0.732283      0.897277\n",
      "recall        0.985196    0.186964  0.918714     0.586080      0.918714\n",
      "f1-score      0.956936    0.277001  0.918714     0.616969      0.900307\n",
      "support    6417.000000  583.000000  0.918714  7000.000000   7000.000000\n",
      "\n",
      "Test Classification Report:\n",
      "                     0           1  accuracy    macro avg  weighted avg\n",
      "precision     0.927105    0.474359  0.915333     0.700732      0.889376\n",
      "recall        0.985091    0.148000  0.915333     0.566545      0.915333\n",
      "f1-score      0.955219    0.225610  0.915333     0.590414      0.894418\n",
      "support    2750.000000  250.000000  0.915333  3000.000000   3000.000000\n",
      "---------------------------------------------------------\n",
      "Train Confusion Matrix:\n",
      "[[6322   95]\n",
      " [ 474  109]]\n",
      "\n",
      "Test Confusion Matrix:\n",
      "[[2709   41]\n",
      " [ 213   37]]\n",
      "\n",
      "----- Model: SVM -----\n",
      "\n",
      "**Accuracy Score**\n",
      "Train Accuracy: 0.999\n",
      "Test Accuracy: 0.909\n",
      "---------------------------------------------------------\n",
      "**Accuracy Error**\n",
      "Train Error: 0.001\n",
      "Test Error: 0.091\n",
      "---------------------------------------------------------\n",
      "Train Classification Report:\n",
      "                     0           1  accuracy    macro avg  weighted avg\n",
      "precision     0.999066    1.000000  0.999143     0.999533      0.999144\n",
      "recall        1.000000    0.989708  0.999143     0.994854      0.999143\n",
      "f1-score      0.999533    0.994828  0.999143     0.997180      0.999141\n",
      "support    6417.000000  583.000000  0.999143  7000.000000   7000.000000\n",
      "\n",
      "Test Classification Report:\n",
      "                     0           1  accuracy    macro avg  weighted avg\n",
      "precision     0.924263    0.353659  0.908667     0.638961      0.876713\n",
      "recall        0.980727    0.116000  0.908667     0.548364      0.908667\n",
      "f1-score      0.951658    0.174699  0.908667     0.563179      0.886912\n",
      "support    2750.000000  250.000000  0.908667  3000.000000   3000.000000\n",
      "---------------------------------------------------------\n",
      "Train Confusion Matrix:\n",
      "[[6417    0]\n",
      " [   6  577]]\n",
      "\n",
      "Test Confusion Matrix:\n",
      "[[2697   53]\n",
      " [ 221   29]]\n"
     ]
    }
   ],
   "source": [
    "# Time report\n",
    "t_start = time.time()\n",
    "\n",
    "# Dicionário para armazenar os resultados\n",
    "results_acc = {}\n",
    "results_auc = {}\n",
    "\n",
    "# Aplicando a função de avaliação e coletando os resultados para AUC-ROC\n",
    "for name, pipeline in selected_pipelines.items():\n",
    "    print(f\"\\n----- Model: {name} -----\\n\")\n",
    "    accuracy, auc_score, prob_test_y = evaluate_model(pipeline, \n",
    "                                               X_train_filtered, \n",
    "                                               y_train, \n",
    "                                               X_test_filtered, \n",
    "                                               y_test)\n",
    "    fpr, tpr, _ = roc_curve(y_test, prob_test_y)\n",
    "    results_auc[name] = {\n",
    "        'fpr': fpr,\n",
    "        'tpr': tpr,\n",
    "        'auc': auc_score\n",
    "    }\n",
    "    results_acc[name] = {\n",
    "        'train': accuracy[0],\n",
    "        'test': accuracy[1],\n",
    "    }\n",
    "\n",
    "# Time report\n",
    "t_finish = time.time()\n",
    "time_report['eval_selected_models'] = t_finish - t_start"
   ]
  },
  {
   "cell_type": "code",
   "execution_count": 21,
   "id": "89e93070",
   "metadata": {},
   "outputs": [
    {
     "data": {
      "image/png": "[encoded data removed]",
      "text/plain": [
       "<Figure size 640x480 with 1 Axes>"
      ]
     },
     "metadata": {},
     "output_type": "display_data"
    }
   ],
   "source": [
    "# Convertendo os dados para DataFrame\n",
    "df_acc = pd.DataFrame.from_dict(results_acc).transpose()\n",
    "\n",
    "# Resetando o índice para tornar as chaves do dicionário em uma coluna\n",
    "df_acc.reset_index(inplace=True)\n",
    "df_acc.rename(columns={'index': 'Algoritmo'}, inplace=True)\n",
    "\n",
    "# Derretendo o DataFrame para ter uma coluna 'Conjunto' e uma coluna 'Score'\n",
    "df_melted = df_acc.melt(id_vars=['Algoritmo'], var_name='Conjunto', value_name='Score')\n",
    "\n",
    "# Plotando o gráfico de barras usando Seaborn\n",
    "sns.barplot(data=df_melted, x='Algoritmo', y='Score', hue='Conjunto')\n",
    "plt.title('Score de Treino e Teste para Cada Algoritmo')\n",
    "plt.legend(loc = 'lower right')\n",
    "plt.xlabel('')\n",
    "plt.ylabel('Score')\n",
    "plt.xticks(rotation=45)\n",
    "plt.show()"
   ]
  },
  {
   "cell_type": "code",
   "execution_count": 22,
   "id": "48db7ae9",
   "metadata": {},
   "outputs": [
    {
     "data": {
      "image/png": "[encoded data removed]",
      "text/plain": [
       "<Figure size 1000x800 with 1 Axes>"
      ]
     },
     "metadata": {},
     "output_type": "display_data"
    }
   ],
   "source": [
    "# Plotando as curvas ROC para os três modelos\n",
    "plt.figure(figsize=(10, 8))\n",
    "for name, data in results_auc.items():\n",
    "    plt.plot(data['fpr'], data['tpr'], label=f\"{name} (AUC = {data['auc']:.2f})\")\n",
    "plt.plot([0, 1], [0, 1], 'k--', label='Chance (AUC = 0.5)')\n",
    "plt.xlabel('False Positive Rate')\n",
    "plt.ylabel('True Positive Rate')\n",
    "plt.title('Comparison of ROC Curves')\n",
    "plt.legend(loc='lower right')\n",
    "plt.grid()\n",
    "plt.show()"
   ]
  },
  {
   "cell_type": "markdown",
   "id": "82ef1737",
   "metadata": {},
   "source": [
    "---\n",
    "# Hyperparameter tuning\n",
    "O tuning de hiperparâmetros é realizado para otimizar o desempenho dos modelos selecionados. Esta etapa envolve experimentar diferentes combinações de parâmetros para cada modelo, utilizando técnicas como busca em grade (grid search) ou busca aleatória (random search), com o objetivo de encontrar a configuração que maximiza a eficácia do modelo."
   ]
  },
  {
   "cell_type": "code",
   "execution_count": 23,
   "id": "dcee5784",
   "metadata": {},
   "outputs": [],
   "source": [
    "def check_metric(y_test, y_predict):\n",
    "    print(\"**Accuracy Score**\")\n",
    "    test_accuracy = accuracy_score(y_test, y_predict)\n",
    "    print(\"\\nTest Accuracy is: %s\"%(test_accuracy))\n",
    "    print(\"---------------------------------------------------------\")\n",
    "    \n",
    "    print(\"\\n**Accuracy Error**\")\n",
    "    test_error = (1-test_accuracy)\n",
    "    print(\"\\nTest Error: %s\"%(test_error))\n",
    "    print(\"---------------------------------------------------------\")\n",
    "    \n",
    "    print(\"\\n**Classification Report**\")\n",
    "    test_cf_report = pd.DataFrame(classification_report(y_test, y_predict, output_dict = True))\n",
    "    print(\"\\n Test Classification Report:\")\n",
    "    print(test_cf_report)\n",
    "    print(\"---------------------------------------------------------\")\n",
    "    \n",
    "    print(\"\\n**Confusion Matrix**\")\n",
    "    test_conf = confusion_matrix(y_test, y_predict)\n",
    "    print(\"\\n Test Confusion Matrix Report:\")\n",
    "    print((test_conf))"
   ]
  },
  {
   "cell_type": "markdown",
   "id": "ad73248d",
   "metadata": {},
   "source": [
    "### Random Forest"
   ]
  },
  {
   "cell_type": "code",
   "execution_count": 24,
   "id": "ba7bee87",
   "metadata": {},
   "outputs": [],
   "source": [
    "rf_pipeline = Pipeline([\n",
    "    ('classifier', RandomForestClassifier(random_state=42))\n",
    "])"
   ]
  },
  {
   "cell_type": "code",
   "execution_count": 25,
   "id": "ae5dbe50",
   "metadata": {},
   "outputs": [],
   "source": [
    "# Definindo a grade de parâmetros para o RandomizedSearchCV\n",
    "rf_param_grid = {\n",
    "    'classifier': [RandomForestClassifier(random_state=42)],  # Não é necessário passar uma lista de classificadores se todos são iguais\n",
    "    'classifier__n_estimators': np.arange(100, 500, 1000),  # Número de árvores na floresta\n",
    "    'classifier__max_depth': [None, 10, 50, 100],  # Máxima profundidade de cada árvore\n",
    "    #'classifier__min_samples_split': [2, 3, 5, 7, 10],  # O número mínimo de amostras requerido para dividir um nó interno\n",
    "    #'classifier__min_samples_leaf': [1, 2, 3, 4, 5],  # O número mínimo de amostras requerido para ser um nó folha\n",
    "    #'classifier__max_features': ['auto', 'sqrt', 'log2'],  # Número de características para considerar ao procurar a melhor divisão\n",
    "    #'classifier__bootstrap': [True, False]  # Método de amostragem ao construir árvores\n",
    "}"
   ]
  },
  {
   "cell_type": "code",
   "execution_count": 26,
   "id": "19fea05a",
   "metadata": {},
   "outputs": [],
   "source": [
    "# Configurando RandomizedSearchCV com o pipeline, a grade de parâmetros e outras configurações\n",
    "rf_random_search = RandomizedSearchCV(\n",
    "    estimator=rf_pipeline, \n",
    "    param_distributions=rf_param_grid, \n",
    "    n_iter=100,  # Número de configurações de parâmetros a serem consideradas\n",
    "    scoring='accuracy',  # Critério de pontuação para avaliar os candidatos\n",
    "    n_jobs=-1,  # Número de jobs para rodar em paralelo, -1 significa usar todos os processadores disponíveis\n",
    "    cv=10,  # Validador cruzado, usando 10-fold CV\n",
    "    random_state=42,\n",
    "    verbose=3 # Acompanhar a execucao\n",
    ")"
   ]
  },
  {
   "cell_type": "code",
   "execution_count": 27,
   "id": "54c2bc71",
   "metadata": {},
   "outputs": [
    {
     "name": "stdout",
     "output_type": "stream",
     "text": [
      "Fitting 10 folds for each of 4 candidates, totalling 40 fits\n",
      "Best Score: 0.916\n",
      "Best Parameters: {'classifier__n_estimators': 100, 'classifier__max_depth': 10, 'classifier': RandomForestClassifier(max_depth=10, random_state=42)}\n"
     ]
    }
   ],
   "source": [
    "# Time report\n",
    "t_start = time.time()\n",
    "\n",
    "# Treinando o modelo com RandomizedSearchCV\n",
    "best_rf_model = rf_random_search.fit(X_train_filtered, y_train)\n",
    "\n",
    "# Exibindo os melhores parâmetros encontrados e a melhor pontuação alcançada\n",
    "print(f\"Best Score: {best_rf_model.best_score_}\")\n",
    "print(\"Best Parameters:\", best_rf_model.best_params_)\n",
    "\n",
    "# Time report\n",
    "t_finish = time.time()\n",
    "time_report['rf_hyperparameter_tuning'] = t_finish - t_start"
   ]
  },
  {
   "cell_type": "code",
   "execution_count": 28,
   "id": "d5b33d8e",
   "metadata": {},
   "outputs": [
    {
     "name": "stdout",
     "output_type": "stream",
     "text": [
      "**Accuracy Score**\n",
      "\n",
      "Test Accuracy is: 0.9156666666666666\n",
      "---------------------------------------------------------\n",
      "\n",
      "**Accuracy Error**\n",
      "\n",
      "Test Error: 0.08433333333333337\n",
      "---------------------------------------------------------\n",
      "\n",
      "**Classification Report**\n",
      "\n",
      " Test Classification Report:\n",
      "                     0           1  accuracy    macro avg  weighted avg\n",
      "precision     0.924227    0.473684  0.915667     0.698956      0.886682\n",
      "recall        0.989091    0.108000  0.915667     0.548545      0.915667\n",
      "f1-score      0.955559    0.175896  0.915667     0.565728      0.890587\n",
      "support    2750.000000  250.000000  0.915667  3000.000000   3000.000000\n",
      "---------------------------------------------------------\n",
      "\n",
      "**Confusion Matrix**\n",
      "\n",
      " Test Confusion Matrix Report:\n",
      "[[2720   30]\n",
      " [ 223   27]]\n"
     ]
    }
   ],
   "source": [
    "rf_test_prediction = best_rf_model.predict(X_test_filtered)\n",
    "check_metric(y_test, rf_test_prediction)"
   ]
  },
  {
   "cell_type": "markdown",
   "id": "f75e5344",
   "metadata": {},
   "source": [
    "### Adaboost "
   ]
  },
  {
   "cell_type": "code",
   "execution_count": 29,
   "id": "2240177d",
   "metadata": {},
   "outputs": [],
   "source": [
    "ada_pipeline = Pipeline([\n",
    "    ('classifier', AdaBoostClassifier(random_state=42))\n",
    "])\n",
    "\n",
    "ada_param_grid = {\n",
    "    'classifier': [AdaBoostClassifier(random_state=42)],  # Classificador AdaBoost\n",
    "    'classifier__n_estimators': np.arange(50, 500,50),  # Número de estimadores\n",
    "    'classifier__learning_rate': [0.01, 0.1, 1.0],  # Taxa de aprendizagem\n",
    "    # 'classifier__algorithm': ['SAMME', 'SAMME.R'],  # Algoritmo de boosting a ser utilizado\n",
    "}\n",
    "\n",
    "# Configurando RandomizedSearchCV com o pipeline, a grade de parâmetros e outras configurações\n",
    "ada_random_search = RandomizedSearchCV(\n",
    "    estimator=ada_pipeline, \n",
    "    param_distributions=ada_param_grid, \n",
    "    n_iter=100,  # Número de configurações de parâmetros a serem consideradas\n",
    "    scoring='accuracy',  # Critério de pontuação para avaliar os candidatos\n",
    "    n_jobs=-1,  # Número de jobs para rodar em paralelo, -1 significa usar todos os processadores disponíveis\n",
    "    cv=10,  # Validador cruzado, usando 10-fold CV\n",
    "    random_state=42,\n",
    "    verbose=3 # Acompanhar a execucao\n",
    ")"
   ]
  },
  {
   "cell_type": "code",
   "execution_count": 30,
   "id": "1e0ebfa8",
   "metadata": {},
   "outputs": [
    {
     "name": "stdout",
     "output_type": "stream",
     "text": [
      "Fitting 10 folds for each of 27 candidates, totalling 270 fits\n",
      "Best Score: 0.9174285714285715\n",
      "Best Parameters: {'classifier__n_estimators': 100, 'classifier__learning_rate': 0.1, 'classifier': AdaBoostClassifier(learning_rate=0.1, n_estimators=100, random_state=42)}\n"
     ]
    }
   ],
   "source": [
    "# Time report\n",
    "t_start = time.time()\n",
    "\n",
    "# Treinando o modelo com RandomizedSearchCV\n",
    "best_ada_model = ada_random_search.fit(X_train_filtered, y_train)\n",
    "\n",
    "# Exibindo os melhores parâmetros encontrados e a melhor pontuação alcançada\n",
    "print(f\"Best Score: {best_ada_model.best_score_}\")\n",
    "print(\"Best Parameters:\", best_ada_model.best_params_)\n",
    "\n",
    "# Time report\n",
    "t_finish = time.time()\n",
    "time_report['ada_hyperparameter_tuning'] = t_finish - t_start"
   ]
  },
  {
   "cell_type": "code",
   "execution_count": 31,
   "id": "f2299485",
   "metadata": {},
   "outputs": [
    {
     "name": "stdout",
     "output_type": "stream",
     "text": [
      "**Accuracy Score**\n",
      "\n",
      "Test Accuracy is: 0.9166666666666666\n",
      "---------------------------------------------------------\n",
      "\n",
      "**Accuracy Error**\n",
      "\n",
      "Test Error: 0.08333333333333337\n",
      "---------------------------------------------------------\n",
      "\n",
      "**Classification Report**\n",
      "\n",
      " Test Classification Report:\n",
      "                     0           1  accuracy    macro avg  weighted avg\n",
      "precision     0.921727    0.500000  0.916667     0.710864      0.886583\n",
      "recall        0.993455    0.072000  0.916667     0.532727      0.916667\n",
      "f1-score      0.956248    0.125874  0.916667     0.541061      0.887050\n",
      "support    2750.000000  250.000000  0.916667  3000.000000   3000.000000\n",
      "---------------------------------------------------------\n",
      "\n",
      "**Confusion Matrix**\n",
      "\n",
      " Test Confusion Matrix Report:\n",
      "[[2732   18]\n",
      " [ 232   18]]\n"
     ]
    }
   ],
   "source": [
    "ada_test_prediction = best_ada_model.predict(X_test_filtered)\n",
    "check_metric(y_test, ada_test_prediction)"
   ]
  },
  {
   "cell_type": "markdown",
   "id": "02bc6799",
   "metadata": {},
   "source": [
    "### SVM "
   ]
  },
  {
   "cell_type": "code",
   "execution_count": 32,
   "id": "a43c75e0",
   "metadata": {},
   "outputs": [],
   "source": [
    "svm_pipeline = Pipeline([\n",
    "    ('classifier', SVC(random_state=42, probability=True))\n",
    "])\n",
    "\n",
    "svm_param_grid = {\n",
    "    'classifier': [SVC(random_state=42, probability=True)],  # Classificador SVM\n",
    "    'classifier__C': [ 1, 10, 100],  # Parâmetro de regularização C\n",
    "    'classifier__kernel': ['linear', 'sigmoid'],  # Tipo de kernel\n",
    "    #'classifier__gamma': ['scale', 'auto', 0.01, 0.1, 1, 10],  # Coeficiente para os kernels 'rbf', 'poly' e 'sigmoid'\n",
    "    # 'classifier__degree': [2, 3, 4],  # Grau do polinômio para o kernel 'poly' (se necessário)\n",
    "}\n",
    "\n",
    "# Configurando RandomizedSearchCV com o pipeline, a grade de parâmetros e outras configurações\n",
    "svm_random_search = RandomizedSearchCV(\n",
    "    estimator=svm_pipeline, \n",
    "    param_distributions=svm_param_grid, \n",
    "    n_iter=100,  # Número de configurações de parâmetros a serem consideradas\n",
    "    scoring='accuracy',  # Critério de pontuação para avaliar os candidatos\n",
    "    n_jobs=-1,  # Número de jobs para rodar em paralelo, -1 significa usar todos os processadores disponíveis\n",
    "    cv=10,  # Validador cruzado, usando 10-fold CV\n",
    "    random_state=42,\n",
    "    verbose=3 # Acompanhar a execucao\n",
    ")"
   ]
  },
  {
   "cell_type": "code",
   "execution_count": 33,
   "id": "d4f01a31",
   "metadata": {},
   "outputs": [
    {
     "name": "stdout",
     "output_type": "stream",
     "text": [
      "Fitting 10 folds for each of 6 candidates, totalling 60 fits\n",
      "Best Score: 0.9167142857142856\n",
      "Best Parameters: {'classifier__kernel': 'linear', 'classifier__C': 1, 'classifier': SVC(C=1, kernel='linear', probability=True, random_state=42)}\n"
     ]
    }
   ],
   "source": [
    "# Time report\n",
    "t_start = time.time()\n",
    "\n",
    "# Treinando o modelo com RandomizedSearchCV\n",
    "best_svm_model = svm_random_search.fit(X_train_filtered, y_train)\n",
    "\n",
    "# Exibindo os melhores parâmetros encontrados e a melhor pontuação alcançada\n",
    "print(f\"Best Score: {best_svm_model.best_score_}\")\n",
    "print(\"Best Parameters:\", best_svm_model.best_params_)\n",
    "\n",
    "# Time report\n",
    "t_finish = time.time()\n",
    "time_report['svm_hyperparameter_tuning'] = t_finish - t_start"
   ]
  },
  {
   "cell_type": "code",
   "execution_count": 34,
   "id": "553d4043",
   "metadata": {},
   "outputs": [
    {
     "name": "stdout",
     "output_type": "stream",
     "text": [
      "**Accuracy Score**\n",
      "\n",
      "Test Accuracy is: 0.9166666666666666\n",
      "---------------------------------------------------------\n",
      "\n",
      "**Accuracy Error**\n",
      "\n",
      "Test Error: 0.08333333333333337\n",
      "---------------------------------------------------------\n",
      "\n",
      "**Classification Report**\n",
      "\n",
      " Test Classification Report:\n",
      "                     0      1  accuracy    macro avg  weighted avg\n",
      "precision     0.916667    0.0  0.916667     0.458333      0.840278\n",
      "recall        1.000000    0.0  0.916667     0.500000      0.916667\n",
      "f1-score      0.956522    0.0  0.916667     0.478261      0.876812\n",
      "support    2750.000000  250.0  0.916667  3000.000000   3000.000000\n",
      "---------------------------------------------------------\n",
      "\n",
      "**Confusion Matrix**\n",
      "\n",
      " Test Confusion Matrix Report:\n",
      "[[2750    0]\n",
      " [ 250    0]]\n"
     ]
    }
   ],
   "source": [
    "svm_test_prediction = best_svm_model.predict(X_test_filtered)\n",
    "check_metric(y_test, svm_test_prediction)"
   ]
  },
  {
   "cell_type": "markdown",
   "id": "128b8824",
   "metadata": {},
   "source": [
    "---\n",
    "# Exportação dos Modelos e Artefatos\n",
    "Após a finalização e seleção do melhor modelo, esta etapa envolve a exportação dos modelos finais e de todos os artefatos relevantes, como as colunas selecionadas, encoders (por exemplo, ordinal_encoder) e o objeto de normalização (scaler). Isso permite a reutilização e implementação do modelo em outros sistemas ou em produção."
   ]
  },
  {
   "cell_type": "code",
   "execution_count": 35,
   "id": "4af8dff9",
   "metadata": {},
   "outputs": [],
   "source": [
    "# Caminho para a pasta desejada\n",
    "folder_path = '../models'\n",
    "\n",
    "# Verificar se a pasta existe, se não, criar\n",
    "if not os.path.exists(folder_path):\n",
    "    os.makedirs(folder_path)"
   ]
  },
  {
   "cell_type": "code",
   "execution_count": 36,
   "id": "adad99f5",
   "metadata": {},
   "outputs": [
    {
     "data": {
      "text/html": [
       "<style>#sk-container-id-1 {color: black;}#sk-container-id-1 pre{padding: 0;}#sk-container-id-1 div.sk-toggleable {background-color: white;}#sk-container-id-1 label.sk-toggleable__label {cursor: pointer;display: block;width: 100%;margin-bottom: 0;padding: 0.3em;box-sizing: border-box;text-align: center;}#sk-container-id-1 label.sk-toggleable__label-arrow:before {content: \"▸\";float: left;margin-right: 0.25em;color: #696969;}#sk-container-id-1 label.sk-toggleable__label-arrow:hover:before {color: black;}#sk-container-id-1 div.sk-estimator:hover label.sk-toggleable__label-arrow:before {color: black;}#sk-container-id-1 div.sk-toggleable__content {max-height: 0;max-width: 0;overflow: hidden;text-align: left;background-color: #f0f8ff;}#sk-container-id-1 div.sk-toggleable__content pre {margin: 0.2em;color: black;border-radius: 0.25em;background-color: #f0f8ff;}#sk-container-id-1 input.sk-toggleable__control:checked~div.sk-toggleable__content {max-height: 200px;max-width: 100%;overflow: auto;}#sk-container-id-1 input.sk-toggleable__control:checked~label.sk-toggleable__label-arrow:before {content: \"▾\";}#sk-container-id-1 div.sk-estimator input.sk-toggleable__control:checked~label.sk-toggleable__label {background-color: #d4ebff;}#sk-container-id-1 div.sk-label input.sk-toggleable__control:checked~label.sk-toggleable__label {background-color: #d4ebff;}#sk-container-id-1 input.sk-hidden--visually {border: 0;clip: rect(1px 1px 1px 1px);clip: rect(1px, 1px, 1px, 1px);height: 1px;margin: -1px;overflow: hidden;padding: 0;position: absolute;width: 1px;}#sk-container-id-1 div.sk-estimator {font-family: monospace;background-color: #f0f8ff;border: 1px dotted black;border-radius: 0.25em;box-sizing: border-box;margin-bottom: 0.5em;}#sk-container-id-1 div.sk-estimator:hover {background-color: #d4ebff;}#sk-container-id-1 div.sk-parallel-item::after {content: \"\";width: 100%;border-bottom: 1px solid gray;flex-grow: 1;}#sk-container-id-1 div.sk-label:hover label.sk-toggleable__label {background-color: #d4ebff;}#sk-container-id-1 div.sk-serial::before {content: \"\";position: absolute;border-left: 1px solid gray;box-sizing: border-box;top: 0;bottom: 0;left: 50%;z-index: 0;}#sk-container-id-1 div.sk-serial {display: flex;flex-direction: column;align-items: center;background-color: white;padding-right: 0.2em;padding-left: 0.2em;position: relative;}#sk-container-id-1 div.sk-item {position: relative;z-index: 1;}#sk-container-id-1 div.sk-parallel {display: flex;align-items: stretch;justify-content: center;background-color: white;position: relative;}#sk-container-id-1 div.sk-item::before, #sk-container-id-1 div.sk-parallel-item::before {content: \"\";position: absolute;border-left: 1px solid gray;box-sizing: border-box;top: 0;bottom: 0;left: 50%;z-index: -1;}#sk-container-id-1 div.sk-parallel-item {display: flex;flex-direction: column;z-index: 1;position: relative;background-color: white;}#sk-container-id-1 div.sk-parallel-item:first-child::after {align-self: flex-end;width: 50%;}#sk-container-id-1 div.sk-parallel-item:last-child::after {align-self: flex-start;width: 50%;}#sk-container-id-1 div.sk-parallel-item:only-child::after {width: 0;}#sk-container-id-1 div.sk-dashed-wrapped {border: 1px dashed gray;margin: 0 0.4em 0.5em 0.4em;box-sizing: border-box;padding-bottom: 0.4em;background-color: white;}#sk-container-id-1 div.sk-label label {font-family: monospace;font-weight: bold;display: inline-block;line-height: 1.2em;}#sk-container-id-1 div.sk-label-container {text-align: center;}#sk-container-id-1 div.sk-container {/* jupyter's `normalize.less` sets `[hidden] { display: none; }` but bootstrap.min.css set `[hidden] { display: none !important; }` so we also need the `!important` here to be able to override the default hidden behavior on the sphinx rendered scikit-learn.org. See: https://github.com/scikit-learn/scikit-learn/issues/21755 */display: inline-block !important;position: relative;}#sk-container-id-1 div.sk-text-repr-fallback {display: none;}</style><div id=\"sk-container-id-1\" class=\"sk-top-container\"><div class=\"sk-text-repr-fallback\"><pre>Pipeline(steps=[(&#x27;classifier&#x27;,\n",
       "                 RandomForestClassifier(max_depth=10, random_state=42))])</pre><b>In a Jupyter environment, please rerun this cell to show the HTML representation or trust the notebook. <br />On GitHub, the HTML representation is unable to render, please try loading this page with nbviewer.org.</b></div><div class=\"sk-container\" hidden><div class=\"sk-item sk-dashed-wrapped\"><div class=\"sk-label-container\"><div class=\"sk-label sk-toggleable\"><input class=\"sk-toggleable__control sk-hidden--visually\" id=\"sk-estimator-id-1\" type=\"checkbox\" ><label for=\"sk-estimator-id-1\" class=\"sk-toggleable__label sk-toggleable__label-arrow\">Pipeline</label><div class=\"sk-toggleable__content\"><pre>Pipeline(steps=[(&#x27;classifier&#x27;,\n",
       "                 RandomForestClassifier(max_depth=10, random_state=42))])</pre></div></div></div><div class=\"sk-serial\"><div class=\"sk-item\"><div class=\"sk-estimator sk-toggleable\"><input class=\"sk-toggleable__control sk-hidden--visually\" id=\"sk-estimator-id-2\" type=\"checkbox\" ><label for=\"sk-estimator-id-2\" class=\"sk-toggleable__label sk-toggleable__label-arrow\">RandomForestClassifier</label><div class=\"sk-toggleable__content\"><pre>RandomForestClassifier(max_depth=10, random_state=42)</pre></div></div></div></div></div></div></div>"
      ],
      "text/plain": [
       "Pipeline(steps=[('classifier',\n",
       "                 RandomForestClassifier(max_depth=10, random_state=42))])"
      ]
     },
     "execution_count": 36,
     "metadata": {},
     "output_type": "execute_result"
    }
   ],
   "source": [
    "# A melhor estimativa disponível diretamente\n",
    "best_rf_model.best_estimator_"
   ]
  },
  {
   "cell_type": "code",
   "execution_count": 37,
   "id": "eaa18c9b",
   "metadata": {},
   "outputs": [
    {
     "data": {
      "text/html": [
       "<style>#sk-container-id-2 {color: black;}#sk-container-id-2 pre{padding: 0;}#sk-container-id-2 div.sk-toggleable {background-color: white;}#sk-container-id-2 label.sk-toggleable__label {cursor: pointer;display: block;width: 100%;margin-bottom: 0;padding: 0.3em;box-sizing: border-box;text-align: center;}#sk-container-id-2 label.sk-toggleable__label-arrow:before {content: \"▸\";float: left;margin-right: 0.25em;color: #696969;}#sk-container-id-2 label.sk-toggleable__label-arrow:hover:before {color: black;}#sk-container-id-2 div.sk-estimator:hover label.sk-toggleable__label-arrow:before {color: black;}#sk-container-id-2 div.sk-toggleable__content {max-height: 0;max-width: 0;overflow: hidden;text-align: left;background-color: #f0f8ff;}#sk-container-id-2 div.sk-toggleable__content pre {margin: 0.2em;color: black;border-radius: 0.25em;background-color: #f0f8ff;}#sk-container-id-2 input.sk-toggleable__control:checked~div.sk-toggleable__content {max-height: 200px;max-width: 100%;overflow: auto;}#sk-container-id-2 input.sk-toggleable__control:checked~label.sk-toggleable__label-arrow:before {content: \"▾\";}#sk-container-id-2 div.sk-estimator input.sk-toggleable__control:checked~label.sk-toggleable__label {background-color: #d4ebff;}#sk-container-id-2 div.sk-label input.sk-toggleable__control:checked~label.sk-toggleable__label {background-color: #d4ebff;}#sk-container-id-2 input.sk-hidden--visually {border: 0;clip: rect(1px 1px 1px 1px);clip: rect(1px, 1px, 1px, 1px);height: 1px;margin: -1px;overflow: hidden;padding: 0;position: absolute;width: 1px;}#sk-container-id-2 div.sk-estimator {font-family: monospace;background-color: #f0f8ff;border: 1px dotted black;border-radius: 0.25em;box-sizing: border-box;margin-bottom: 0.5em;}#sk-container-id-2 div.sk-estimator:hover {background-color: #d4ebff;}#sk-container-id-2 div.sk-parallel-item::after {content: \"\";width: 100%;border-bottom: 1px solid gray;flex-grow: 1;}#sk-container-id-2 div.sk-label:hover label.sk-toggleable__label {background-color: #d4ebff;}#sk-container-id-2 div.sk-serial::before {content: \"\";position: absolute;border-left: 1px solid gray;box-sizing: border-box;top: 0;bottom: 0;left: 50%;z-index: 0;}#sk-container-id-2 div.sk-serial {display: flex;flex-direction: column;align-items: center;background-color: white;padding-right: 0.2em;padding-left: 0.2em;position: relative;}#sk-container-id-2 div.sk-item {position: relative;z-index: 1;}#sk-container-id-2 div.sk-parallel {display: flex;align-items: stretch;justify-content: center;background-color: white;position: relative;}#sk-container-id-2 div.sk-item::before, #sk-container-id-2 div.sk-parallel-item::before {content: \"\";position: absolute;border-left: 1px solid gray;box-sizing: border-box;top: 0;bottom: 0;left: 50%;z-index: -1;}#sk-container-id-2 div.sk-parallel-item {display: flex;flex-direction: column;z-index: 1;position: relative;background-color: white;}#sk-container-id-2 div.sk-parallel-item:first-child::after {align-self: flex-end;width: 50%;}#sk-container-id-2 div.sk-parallel-item:last-child::after {align-self: flex-start;width: 50%;}#sk-container-id-2 div.sk-parallel-item:only-child::after {width: 0;}#sk-container-id-2 div.sk-dashed-wrapped {border: 1px dashed gray;margin: 0 0.4em 0.5em 0.4em;box-sizing: border-box;padding-bottom: 0.4em;background-color: white;}#sk-container-id-2 div.sk-label label {font-family: monospace;font-weight: bold;display: inline-block;line-height: 1.2em;}#sk-container-id-2 div.sk-label-container {text-align: center;}#sk-container-id-2 div.sk-container {/* jupyter's `normalize.less` sets `[hidden] { display: none; }` but bootstrap.min.css set `[hidden] { display: none !important; }` so we also need the `!important` here to be able to override the default hidden behavior on the sphinx rendered scikit-learn.org. See: https://github.com/scikit-learn/scikit-learn/issues/21755 */display: inline-block !important;position: relative;}#sk-container-id-2 div.sk-text-repr-fallback {display: none;}</style><div id=\"sk-container-id-2\" class=\"sk-top-container\"><div class=\"sk-text-repr-fallback\"><pre>Pipeline(steps=[(&#x27;classifier&#x27;,\n",
       "                 AdaBoostClassifier(learning_rate=0.1, n_estimators=100,\n",
       "                                    random_state=42))])</pre><b>In a Jupyter environment, please rerun this cell to show the HTML representation or trust the notebook. <br />On GitHub, the HTML representation is unable to render, please try loading this page with nbviewer.org.</b></div><div class=\"sk-container\" hidden><div class=\"sk-item sk-dashed-wrapped\"><div class=\"sk-label-container\"><div class=\"sk-label sk-toggleable\"><input class=\"sk-toggleable__control sk-hidden--visually\" id=\"sk-estimator-id-3\" type=\"checkbox\" ><label for=\"sk-estimator-id-3\" class=\"sk-toggleable__label sk-toggleable__label-arrow\">Pipeline</label><div class=\"sk-toggleable__content\"><pre>Pipeline(steps=[(&#x27;classifier&#x27;,\n",
       "                 AdaBoostClassifier(learning_rate=0.1, n_estimators=100,\n",
       "                                    random_state=42))])</pre></div></div></div><div class=\"sk-serial\"><div class=\"sk-item\"><div class=\"sk-estimator sk-toggleable\"><input class=\"sk-toggleable__control sk-hidden--visually\" id=\"sk-estimator-id-4\" type=\"checkbox\" ><label for=\"sk-estimator-id-4\" class=\"sk-toggleable__label sk-toggleable__label-arrow\">AdaBoostClassifier</label><div class=\"sk-toggleable__content\"><pre>AdaBoostClassifier(learning_rate=0.1, n_estimators=100, random_state=42)</pre></div></div></div></div></div></div></div>"
      ],
      "text/plain": [
       "Pipeline(steps=[('classifier',\n",
       "                 AdaBoostClassifier(learning_rate=0.1, n_estimators=100,\n",
       "                                    random_state=42))])"
      ]
     },
     "execution_count": 37,
     "metadata": {},
     "output_type": "execute_result"
    }
   ],
   "source": [
    "best_ada_model.best_estimator_"
   ]
  },
  {
   "cell_type": "code",
   "execution_count": 38,
   "id": "2a24daeb",
   "metadata": {},
   "outputs": [
    {
     "data": {
      "text/html": [
       "<style>#sk-container-id-3 {color: black;}#sk-container-id-3 pre{padding: 0;}#sk-container-id-3 div.sk-toggleable {background-color: white;}#sk-container-id-3 label.sk-toggleable__label {cursor: pointer;display: block;width: 100%;margin-bottom: 0;padding: 0.3em;box-sizing: border-box;text-align: center;}#sk-container-id-3 label.sk-toggleable__label-arrow:before {content: \"▸\";float: left;margin-right: 0.25em;color: #696969;}#sk-container-id-3 label.sk-toggleable__label-arrow:hover:before {color: black;}#sk-container-id-3 div.sk-estimator:hover label.sk-toggleable__label-arrow:before {color: black;}#sk-container-id-3 div.sk-toggleable__content {max-height: 0;max-width: 0;overflow: hidden;text-align: left;background-color: #f0f8ff;}#sk-container-id-3 div.sk-toggleable__content pre {margin: 0.2em;color: black;border-radius: 0.25em;background-color: #f0f8ff;}#sk-container-id-3 input.sk-toggleable__control:checked~div.sk-toggleable__content {max-height: 200px;max-width: 100%;overflow: auto;}#sk-container-id-3 input.sk-toggleable__control:checked~label.sk-toggleable__label-arrow:before {content: \"▾\";}#sk-container-id-3 div.sk-estimator input.sk-toggleable__control:checked~label.sk-toggleable__label {background-color: #d4ebff;}#sk-container-id-3 div.sk-label input.sk-toggleable__control:checked~label.sk-toggleable__label {background-color: #d4ebff;}#sk-container-id-3 input.sk-hidden--visually {border: 0;clip: rect(1px 1px 1px 1px);clip: rect(1px, 1px, 1px, 1px);height: 1px;margin: -1px;overflow: hidden;padding: 0;position: absolute;width: 1px;}#sk-container-id-3 div.sk-estimator {font-family: monospace;background-color: #f0f8ff;border: 1px dotted black;border-radius: 0.25em;box-sizing: border-box;margin-bottom: 0.5em;}#sk-container-id-3 div.sk-estimator:hover {background-color: #d4ebff;}#sk-container-id-3 div.sk-parallel-item::after {content: \"\";width: 100%;border-bottom: 1px solid gray;flex-grow: 1;}#sk-container-id-3 div.sk-label:hover label.sk-toggleable__label {background-color: #d4ebff;}#sk-container-id-3 div.sk-serial::before {content: \"\";position: absolute;border-left: 1px solid gray;box-sizing: border-box;top: 0;bottom: 0;left: 50%;z-index: 0;}#sk-container-id-3 div.sk-serial {display: flex;flex-direction: column;align-items: center;background-color: white;padding-right: 0.2em;padding-left: 0.2em;position: relative;}#sk-container-id-3 div.sk-item {position: relative;z-index: 1;}#sk-container-id-3 div.sk-parallel {display: flex;align-items: stretch;justify-content: center;background-color: white;position: relative;}#sk-container-id-3 div.sk-item::before, #sk-container-id-3 div.sk-parallel-item::before {content: \"\";position: absolute;border-left: 1px solid gray;box-sizing: border-box;top: 0;bottom: 0;left: 50%;z-index: -1;}#sk-container-id-3 div.sk-parallel-item {display: flex;flex-direction: column;z-index: 1;position: relative;background-color: white;}#sk-container-id-3 div.sk-parallel-item:first-child::after {align-self: flex-end;width: 50%;}#sk-container-id-3 div.sk-parallel-item:last-child::after {align-self: flex-start;width: 50%;}#sk-container-id-3 div.sk-parallel-item:only-child::after {width: 0;}#sk-container-id-3 div.sk-dashed-wrapped {border: 1px dashed gray;margin: 0 0.4em 0.5em 0.4em;box-sizing: border-box;padding-bottom: 0.4em;background-color: white;}#sk-container-id-3 div.sk-label label {font-family: monospace;font-weight: bold;display: inline-block;line-height: 1.2em;}#sk-container-id-3 div.sk-label-container {text-align: center;}#sk-container-id-3 div.sk-container {/* jupyter's `normalize.less` sets `[hidden] { display: none; }` but bootstrap.min.css set `[hidden] { display: none !important; }` so we also need the `!important` here to be able to override the default hidden behavior on the sphinx rendered scikit-learn.org. See: https://github.com/scikit-learn/scikit-learn/issues/21755 */display: inline-block !important;position: relative;}#sk-container-id-3 div.sk-text-repr-fallback {display: none;}</style><div id=\"sk-container-id-3\" class=\"sk-top-container\"><div class=\"sk-text-repr-fallback\"><pre>Pipeline(steps=[(&#x27;classifier&#x27;,\n",
       "                 SVC(C=1, kernel=&#x27;linear&#x27;, probability=True, random_state=42))])</pre><b>In a Jupyter environment, please rerun this cell to show the HTML representation or trust the notebook. <br />On GitHub, the HTML representation is unable to render, please try loading this page with nbviewer.org.</b></div><div class=\"sk-container\" hidden><div class=\"sk-item sk-dashed-wrapped\"><div class=\"sk-label-container\"><div class=\"sk-label sk-toggleable\"><input class=\"sk-toggleable__control sk-hidden--visually\" id=\"sk-estimator-id-5\" type=\"checkbox\" ><label for=\"sk-estimator-id-5\" class=\"sk-toggleable__label sk-toggleable__label-arrow\">Pipeline</label><div class=\"sk-toggleable__content\"><pre>Pipeline(steps=[(&#x27;classifier&#x27;,\n",
       "                 SVC(C=1, kernel=&#x27;linear&#x27;, probability=True, random_state=42))])</pre></div></div></div><div class=\"sk-serial\"><div class=\"sk-item\"><div class=\"sk-estimator sk-toggleable\"><input class=\"sk-toggleable__control sk-hidden--visually\" id=\"sk-estimator-id-6\" type=\"checkbox\" ><label for=\"sk-estimator-id-6\" class=\"sk-toggleable__label sk-toggleable__label-arrow\">SVC</label><div class=\"sk-toggleable__content\"><pre>SVC(C=1, kernel=&#x27;linear&#x27;, probability=True, random_state=42)</pre></div></div></div></div></div></div></div>"
      ],
      "text/plain": [
       "Pipeline(steps=[('classifier',\n",
       "                 SVC(C=1, kernel='linear', probability=True, random_state=42))])"
      ]
     },
     "execution_count": 38,
     "metadata": {},
     "output_type": "execute_result"
    }
   ],
   "source": [
    "best_svm_model.best_estimator_"
   ]
  },
  {
   "cell_type": "code",
   "execution_count": 39,
   "id": "097cea39",
   "metadata": {},
   "outputs": [
    {
     "data": {
      "text/plain": [
       "['../models/best_svm_model.pkl']"
      ]
     },
     "execution_count": 39,
     "metadata": {},
     "output_type": "execute_result"
    }
   ],
   "source": [
    "# Salvar os melhores modelos\n",
    "dump(best_rf_model.best_estimator_, folder_path+'/best_rf_model.pkl')\n",
    "dump(best_ada_model.best_estimator_, folder_path+'/best_ada_model.pkl')\n",
    "dump(best_svm_model.best_estimator_, folder_path+'/best_svm_model.pkl')"
   ]
  },
  {
   "cell_type": "code",
   "execution_count": 40,
   "id": "7de4003f",
   "metadata": {},
   "outputs": [
    {
     "data": {
      "text/plain": [
       "['../models/scaler.joblib']"
      ]
     },
     "execution_count": 40,
     "metadata": {},
     "output_type": "execute_result"
    }
   ],
   "source": [
    "# Salvar as Variáveis Selecionadas\n",
    "selected_features = X_train_filtered.columns\n",
    "dump(selected_features, folder_path+'/selected_features.pkl')\n",
    "\n",
    "# Salvando o codificador\n",
    "dump(encoder, folder_path+'/ordinal_encoder.joblib')\n",
    "\n",
    "# Salvando standard scaler\n",
    "dump(scaler, folder_path+'/scaler.joblib')"
   ]
  },
  {
   "cell_type": "markdown",
   "id": "f771191d",
   "metadata": {},
   "source": [
    "![title](imgs/end.png)"
   ]
  }
 ],
 "metadata": {
  "kernelspec": {
   "display_name": "Python 3 (ipykernel)",
   "language": "python",
   "name": "python3"
  },
  "language_info": {
   "codemirror_mode": {
    "name": "ipython",
    "version": 3
   },
   "file_extension": ".py",
   "mimetype": "text/x-python",
   "name": "python",
   "nbconvert_exporter": "python",
   "pygments_lexer": "ipython3",
   "version": "3.11.5"
  }
 },
 "nbformat": 4,
 "nbformat_minor": 5
}
